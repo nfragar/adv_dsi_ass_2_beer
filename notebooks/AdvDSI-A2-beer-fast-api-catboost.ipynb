{
 "cells": [
  {
   "cell_type": "markdown",
   "id": "71fac978-3f6a-4934-862a-7e438179d106",
   "metadata": {},
   "source": [
    "# **AdvDSI - Assignment 2: Multi-Class Classification - Beer Style Predictor - Fastapi - Catboost**"
   ]
  },
  {
   "cell_type": "markdown",
   "id": "bbeccdad-c842-4cc2-bca4-a6ea73fcd5fb",
   "metadata": {},
   "source": [
    "Train a machine *learning model* (using sklearn) or a *custom neural networks* (using pytorch) that will \n",
    "\n",
    "accurately predict a type of beer based on some users’ rating criterias such as appearance, aroma, palate or taste. \n",
    "\n",
    "You will also need to build a web app and deploy it online (using Heroku) in order to serve your model for real time predictions."
   ]
  },
  {
   "cell_type": "markdown",
   "id": "1bcfd72c-f52a-463e-85c9-4764b5c71277",
   "metadata": {},
   "source": [
    "**Student Name:** Nathan Fragar\n",
    "\n",
    "**Student No. :** 93087548\n",
    "\n",
    "**Week:** 6\n",
    "\n",
    "**Date:** 20MAR2022"
   ]
  },
  {
   "cell_type": "markdown",
   "id": "39d6c5c2-e529-4ed8-9027-0b56bdcf6e91",
   "metadata": {},
   "source": [
    "#### Description:\n",
    "\n",
    "This notebook is prepare functions and processing for FastAPI Docker Notebook"
   ]
  },
  {
   "cell_type": "markdown",
   "id": "ba65f356-776d-482b-8387-9dd72046985f",
   "metadata": {},
   "source": [
    "## 1. Load Dataset"
   ]
  },
  {
   "cell_type": "markdown",
   "id": "92ae90c4-650c-4141-b7a7-17b690f1aae9",
   "metadata": {},
   "source": [
    "**[1.1]** Task: Import required packages: Pandas, Numpy, joblib etc"
   ]
  },
  {
   "cell_type": "code",
   "execution_count": 230,
   "id": "27801da6-3c14-4c59-a3d8-6b99010be7ba",
   "metadata": {},
   "outputs": [],
   "source": [
    "# Task: Import the pandas, numpy and joblib package\n",
    "import pandas as pd\n",
    "import numpy as np\n",
    "from joblib import load\n",
    "import joblib as job\n",
    "\n",
    "from starlette.responses import JSONResponse\n",
    "from typing import Optional\n",
    "from pydantic import BaseModel\n",
    "\n",
    "# Algorithm - Catboost\n",
    "import catboost\n",
    "from catboost import *\n",
    "from catboost import CatBoostClassifier\n",
    "from catboost import Pool"
   ]
  },
  {
   "cell_type": "code",
   "execution_count": 162,
   "id": "41b81564-d44d-4ffd-a835-16b44e29cfb2",
   "metadata": {},
   "outputs": [
    {
     "name": "stdout",
     "output_type": "stream",
     "text": [
      "Python 3.9.10\n"
     ]
    }
   ],
   "source": [
    "! python --version"
   ]
  },
  {
   "cell_type": "code",
   "execution_count": 64,
   "id": "979055aa-183d-4b2a-bbcf-4b5778bd9ca2",
   "metadata": {},
   "outputs": [],
   "source": [
    "# Change Working Directory: /home/jovyan/work"
   ]
  },
  {
   "cell_type": "code",
   "execution_count": 2,
   "id": "14d24675-fff5-43e9-9da2-d8b3587e7d9b",
   "metadata": {},
   "outputs": [
    {
     "name": "stdout",
     "output_type": "stream",
     "text": [
      "/home/jovyan/work\n"
     ]
    }
   ],
   "source": [
    "cd /home/jovyan/work"
   ]
  },
  {
   "cell_type": "code",
   "execution_count": 3,
   "id": "f0ba3ab8-8605-4bee-b781-cd396e6456a0",
   "metadata": {},
   "outputs": [],
   "source": [
    "# Task: Launch the magic commands for auto-relaoding external modules\n",
    "%load_ext autoreload\n",
    "%autoreload 2"
   ]
  },
  {
   "cell_type": "markdown",
   "id": "b5732f04-86b8-426d-8f89-d4a5df48e77e",
   "metadata": {},
   "source": [
    "**[1.2]** Task: Load Dataset - Beer Styles and Breweries"
   ]
  },
  {
   "cell_type": "code",
   "execution_count": 348,
   "id": "03eb5f34-ee8d-4f98-a20a-27903857afd4",
   "metadata": {},
   "outputs": [],
   "source": [
    "# file_url\n",
    "file_path_beer_style = 'data/reference/beer_style.csv'\n",
    "file_path_brewery = 'data/reference/breweries.csv'\n",
    "file_path_beer_min_max = 'data/reference/beer_min_max_scale.csv'\n",
    "\n",
    "# Load files into df_raw data frames\n",
    "df_beer_style = pd.read_csv(file_path_beer_style)\n",
    "df_brewery = pd.read_csv(file_path_brewery)\n",
    "df_brewery_id = pd.read_csv(file_path_brewery, index_col='brewery_id')\n",
    "df_beer_min_max_scale = pd.read_csv(file_path_beer_min_max, index_col='col')"
   ]
  },
  {
   "cell_type": "code",
   "execution_count": 308,
   "id": "ba7219e3-91e6-469c-a30a-89383f82d3ab",
   "metadata": {},
   "outputs": [
    {
     "data": {
      "text/html": [
       "<div>\n",
       "<style scoped>\n",
       "    .dataframe tbody tr th:only-of-type {\n",
       "        vertical-align: middle;\n",
       "    }\n",
       "\n",
       "    .dataframe tbody tr th {\n",
       "        vertical-align: top;\n",
       "    }\n",
       "\n",
       "    .dataframe thead th {\n",
       "        text-align: right;\n",
       "    }\n",
       "</style>\n",
       "<table border=\"1\" class=\"dataframe\">\n",
       "  <thead>\n",
       "    <tr style=\"text-align: right;\">\n",
       "      <th></th>\n",
       "      <th>brewery_name</th>\n",
       "    </tr>\n",
       "    <tr>\n",
       "      <th>brewery_id</th>\n",
       "      <th></th>\n",
       "    </tr>\n",
       "  </thead>\n",
       "  <tbody>\n",
       "    <tr>\n",
       "      <th>13160</th>\n",
       "      <td>'t Hofbrouwerijke</td>\n",
       "    </tr>\n",
       "    <tr>\n",
       "      <th>17863</th>\n",
       "      <td>(512) Brewing Company</td>\n",
       "    </tr>\n",
       "    <tr>\n",
       "      <th>16873</th>\n",
       "      <td>10 Barrel Brewing Co.</td>\n",
       "    </tr>\n",
       "    <tr>\n",
       "      <th>4473</th>\n",
       "      <td>1516 Brewing Company</td>\n",
       "    </tr>\n",
       "    <tr>\n",
       "      <th>20688</th>\n",
       "      <td>16 Mile Brewing Company</td>\n",
       "    </tr>\n",
       "  </tbody>\n",
       "</table>\n",
       "</div>"
      ],
      "text/plain": [
       "                       brewery_name\n",
       "brewery_id                         \n",
       "13160             't Hofbrouwerijke\n",
       "17863         (512) Brewing Company\n",
       "16873         10 Barrel Brewing Co.\n",
       "4473           1516 Brewing Company\n",
       "20688       16 Mile Brewing Company"
      ]
     },
     "execution_count": 308,
     "metadata": {},
     "output_type": "execute_result"
    }
   ],
   "source": [
    "df_brewery_id.head()"
   ]
  },
  {
   "cell_type": "markdown",
   "id": "583ebdf6-8b01-4587-a5a8-7c309db9163b",
   "metadata": {},
   "source": [
    "**[1.3]** Display Datasets - Beer Styles and Breweries"
   ]
  },
  {
   "cell_type": "code",
   "execution_count": 5,
   "id": "32c908c8-7384-4141-b1c2-d11bd8a973b0",
   "metadata": {},
   "outputs": [
    {
     "data": {
      "text/html": [
       "<div>\n",
       "<style scoped>\n",
       "    .dataframe tbody tr th:only-of-type {\n",
       "        vertical-align: middle;\n",
       "    }\n",
       "\n",
       "    .dataframe tbody tr th {\n",
       "        vertical-align: top;\n",
       "    }\n",
       "\n",
       "    .dataframe thead th {\n",
       "        text-align: right;\n",
       "    }\n",
       "</style>\n",
       "<table border=\"1\" class=\"dataframe\">\n",
       "  <thead>\n",
       "    <tr style=\"text-align: right;\">\n",
       "      <th></th>\n",
       "      <th>beer_style</th>\n",
       "      <th>beer_style_cat</th>\n",
       "    </tr>\n",
       "  </thead>\n",
       "  <tbody>\n",
       "    <tr>\n",
       "      <th>0</th>\n",
       "      <td>Altbier</td>\n",
       "      <td>0</td>\n",
       "    </tr>\n",
       "    <tr>\n",
       "      <th>1</th>\n",
       "      <td>American Adjunct Lager</td>\n",
       "      <td>1</td>\n",
       "    </tr>\n",
       "    <tr>\n",
       "      <th>2</th>\n",
       "      <td>American Amber / Red Ale</td>\n",
       "      <td>2</td>\n",
       "    </tr>\n",
       "    <tr>\n",
       "      <th>3</th>\n",
       "      <td>American Amber / Red Lager</td>\n",
       "      <td>3</td>\n",
       "    </tr>\n",
       "    <tr>\n",
       "      <th>4</th>\n",
       "      <td>American Barleywine</td>\n",
       "      <td>4</td>\n",
       "    </tr>\n",
       "  </tbody>\n",
       "</table>\n",
       "</div>"
      ],
      "text/plain": [
       "                   beer_style  beer_style_cat\n",
       "0                     Altbier               0\n",
       "1      American Adjunct Lager               1\n",
       "2    American Amber / Red Ale               2\n",
       "3  American Amber / Red Lager               3\n",
       "4         American Barleywine               4"
      ]
     },
     "execution_count": 5,
     "metadata": {},
     "output_type": "execute_result"
    }
   ],
   "source": [
    "df_beer_style.head()"
   ]
  },
  {
   "cell_type": "code",
   "execution_count": 7,
   "id": "1176183d-d90c-4fa9-82d0-ed07e6ae46dc",
   "metadata": {},
   "outputs": [
    {
     "data": {
      "text/html": [
       "<div>\n",
       "<style scoped>\n",
       "    .dataframe tbody tr th:only-of-type {\n",
       "        vertical-align: middle;\n",
       "    }\n",
       "\n",
       "    .dataframe tbody tr th {\n",
       "        vertical-align: top;\n",
       "    }\n",
       "\n",
       "    .dataframe thead th {\n",
       "        text-align: right;\n",
       "    }\n",
       "</style>\n",
       "<table border=\"1\" class=\"dataframe\">\n",
       "  <thead>\n",
       "    <tr style=\"text-align: right;\">\n",
       "      <th></th>\n",
       "      <th>brewery_name</th>\n",
       "      <th>brewery_id</th>\n",
       "    </tr>\n",
       "  </thead>\n",
       "  <tbody>\n",
       "    <tr>\n",
       "      <th>0</th>\n",
       "      <td>'t Hofbrouwerijke</td>\n",
       "      <td>13160</td>\n",
       "    </tr>\n",
       "    <tr>\n",
       "      <th>1</th>\n",
       "      <td>(512) Brewing Company</td>\n",
       "      <td>17863</td>\n",
       "    </tr>\n",
       "    <tr>\n",
       "      <th>2</th>\n",
       "      <td>10 Barrel Brewing Co.</td>\n",
       "      <td>16873</td>\n",
       "    </tr>\n",
       "    <tr>\n",
       "      <th>3</th>\n",
       "      <td>1516 Brewing Company</td>\n",
       "      <td>4473</td>\n",
       "    </tr>\n",
       "    <tr>\n",
       "      <th>4</th>\n",
       "      <td>16 Mile Brewing Company</td>\n",
       "      <td>20688</td>\n",
       "    </tr>\n",
       "  </tbody>\n",
       "</table>\n",
       "</div>"
      ],
      "text/plain": [
       "              brewery_name  brewery_id\n",
       "0        't Hofbrouwerijke       13160\n",
       "1    (512) Brewing Company       17863\n",
       "2    10 Barrel Brewing Co.       16873\n",
       "3     1516 Brewing Company        4473\n",
       "4  16 Mile Brewing Company       20688"
      ]
     },
     "execution_count": 7,
     "metadata": {},
     "output_type": "execute_result"
    }
   ],
   "source": [
    "df_brewery.head()"
   ]
  },
  {
   "cell_type": "code",
   "execution_count": 8,
   "id": "7483b132-64be-4677-ad0a-d65e3033a83e",
   "metadata": {},
   "outputs": [
    {
     "data": {
      "text/html": [
       "<div>\n",
       "<style scoped>\n",
       "    .dataframe tbody tr th:only-of-type {\n",
       "        vertical-align: middle;\n",
       "    }\n",
       "\n",
       "    .dataframe tbody tr th {\n",
       "        vertical-align: top;\n",
       "    }\n",
       "\n",
       "    .dataframe thead th {\n",
       "        text-align: right;\n",
       "    }\n",
       "</style>\n",
       "<table border=\"1\" class=\"dataframe\">\n",
       "  <thead>\n",
       "    <tr style=\"text-align: right;\">\n",
       "      <th></th>\n",
       "      <th>min</th>\n",
       "      <th>max</th>\n",
       "    </tr>\n",
       "    <tr>\n",
       "      <th>col</th>\n",
       "      <th></th>\n",
       "      <th></th>\n",
       "    </tr>\n",
       "  </thead>\n",
       "  <tbody>\n",
       "    <tr>\n",
       "      <th>review_aroma</th>\n",
       "      <td>1</td>\n",
       "      <td>5.0</td>\n",
       "    </tr>\n",
       "    <tr>\n",
       "      <th>review_appearance</th>\n",
       "      <td>0</td>\n",
       "      <td>5.0</td>\n",
       "    </tr>\n",
       "    <tr>\n",
       "      <th>review_palate</th>\n",
       "      <td>1</td>\n",
       "      <td>5.0</td>\n",
       "    </tr>\n",
       "    <tr>\n",
       "      <th>review_taste</th>\n",
       "      <td>1</td>\n",
       "      <td>5.0</td>\n",
       "    </tr>\n",
       "    <tr>\n",
       "      <th>beer_abv</th>\n",
       "      <td>0</td>\n",
       "      <td>57.7</td>\n",
       "    </tr>\n",
       "  </tbody>\n",
       "</table>\n",
       "</div>"
      ],
      "text/plain": [
       "                   min   max\n",
       "col                         \n",
       "review_aroma         1   5.0\n",
       "review_appearance    0   5.0\n",
       "review_palate        1   5.0\n",
       "review_taste         1   5.0\n",
       "beer_abv             0  57.7"
      ]
     },
     "execution_count": 8,
     "metadata": {},
     "output_type": "execute_result"
    }
   ],
   "source": [
    "df_beer_min_max_scale.head()"
   ]
  },
  {
   "cell_type": "markdown",
   "id": "66c4accd-61a4-421b-be1f-c0a6fa07c793",
   "metadata": {},
   "source": [
    "**[1.4]** Create and Load Catboost Model"
   ]
  },
  {
   "cell_type": "code",
   "execution_count": 6,
   "id": "db412546-df89-44ad-ab51-1e0e096b6ca4",
   "metadata": {},
   "outputs": [],
   "source": [
    "# Load saved catboost model into cb_model\n",
    "cb_model = load('models/catboost_model5.joblib')"
   ]
  },
  {
   "cell_type": "markdown",
   "id": "503078b0-6bb5-4dc5-8715-9bf00c0fb367",
   "metadata": {},
   "source": [
    "**[1.5]** Check model operation"
   ]
  },
  {
   "cell_type": "code",
   "execution_count": 7,
   "id": "771d21c5-9c14-4142-8f42-66e5305ebdf9",
   "metadata": {},
   "outputs": [
    {
     "data": {
      "text/plain": [
       "array([89])"
      ]
     },
     "execution_count": 7,
     "metadata": {},
     "output_type": "execute_result"
    }
   ],
   "source": [
    "#89 \n",
    "df_test_record_type_89 = [11031,0.176634,0.750,0.9,1.000,0.750]\n",
    "cb_model.predict(df_test_record_type_89,prediction_type='Class')"
   ]
  },
  {
   "cell_type": "markdown",
   "id": "91dcaa5e-1748-4802-8394-3a7006f32581",
   "metadata": {},
   "source": [
    "**[1.6]** Create Min-Max Scaler to pre-process input"
   ]
  },
  {
   "cell_type": "code",
   "execution_count": 564,
   "id": "80805455-c5f3-428a-a0aa-d2033ad9156a",
   "metadata": {},
   "outputs": [],
   "source": [
    "def MinMaxScaleFrame(df, cols, inplace=True):\n",
    "   \n",
    "    for col in cols:\n",
    "        x_min = df_beer_min_max_scale.loc[col,'min']\n",
    "        x_max = df_beer_min_max_scale.loc[col,'max']\n",
    "        col_std = col + '_std'\n",
    "        col_scaled = col + '_scaled'\n",
    "        \n",
    "        if inplace==True:\n",
    "            df[col] = (df[col] - x_min)/(x_max - x_min)\n",
    "        else:\n",
    "            df[col_std] = (df[col] - x_min)/(x_max - x_min)\n",
    "        \n",
    "    return df"
   ]
  },
  {
   "cell_type": "markdown",
   "id": "9d3f315e-5f1b-40e9-9607-f7a35974d9b1",
   "metadata": {},
   "source": [
    "##### Test Model \n",
    "Test the model with the following records"
   ]
  },
  {
   "cell_type": "code",
   "execution_count": 9,
   "id": "9bbea48d-6a62-4752-ab99-ab6c101037c0",
   "metadata": {},
   "outputs": [
    {
     "data": {
      "text/html": [
       "<div>\n",
       "<style scoped>\n",
       "    .dataframe tbody tr th:only-of-type {\n",
       "        vertical-align: middle;\n",
       "    }\n",
       "\n",
       "    .dataframe tbody tr th {\n",
       "        vertical-align: top;\n",
       "    }\n",
       "\n",
       "    .dataframe thead th {\n",
       "        text-align: right;\n",
       "    }\n",
       "</style>\n",
       "<table border=\"1\" class=\"dataframe\">\n",
       "  <thead>\n",
       "    <tr style=\"text-align: right;\">\n",
       "      <th></th>\n",
       "      <th>brewery_id</th>\n",
       "      <th>beer_abv</th>\n",
       "      <th>review_palate</th>\n",
       "      <th>review_aroma</th>\n",
       "      <th>review_appearance</th>\n",
       "      <th>review_taste</th>\n",
       "    </tr>\n",
       "  </thead>\n",
       "  <tbody>\n",
       "    <tr>\n",
       "      <th>0</th>\n",
       "      <td>11031</td>\n",
       "      <td>0.176634</td>\n",
       "      <td>0.75</td>\n",
       "      <td>0.9</td>\n",
       "      <td>1.0</td>\n",
       "      <td>0.75</td>\n",
       "    </tr>\n",
       "  </tbody>\n",
       "</table>\n",
       "</div>"
      ],
      "text/plain": [
       "   brewery_id  beer_abv  review_palate  review_aroma  review_appearance  \\\n",
       "0       11031  0.176634           0.75           0.9                1.0   \n",
       "\n",
       "   review_taste  \n",
       "0          0.75  "
      ]
     },
     "execution_count": 9,
     "metadata": {},
     "output_type": "execute_result"
    }
   ],
   "source": [
    "# Brewery Name: Brouwerij De Molen (11031) - BeerStyle: Russian Imperial Stout(89)\n",
    "df_test_11031_89 = pd.DataFrame([[11031,0.176634,0.750,0.9,1.000,0.750]], columns = ['brewery_id','beer_abv','review_palate','review_aroma','review_appearance','review_taste'])\n",
    "#df_test_15438_89 = MinMaxScaleFrame(df_test_15438_65, minmax_scale_cols, inplace=True)\n",
    "df_test_11031_89.head()"
   ]
  },
  {
   "cell_type": "code",
   "execution_count": 11,
   "id": "7cfb22a7-dd32-4f95-8818-b3825e937dc2",
   "metadata": {},
   "outputs": [
    {
     "data": {
      "text/plain": [
       "array([[89]])"
      ]
     },
     "execution_count": 11,
     "metadata": {},
     "output_type": "execute_result"
    }
   ],
   "source": [
    "cb_model.predict(df_test_11031_89,prediction_type='Class')"
   ]
  },
  {
   "cell_type": "markdown",
   "id": "f262db59-15ef-4808-ac1a-b5ba2ceba02f",
   "metadata": {},
   "source": [
    "**[1.6]** Check with API Input"
   ]
  },
  {
   "cell_type": "code",
   "execution_count": 12,
   "id": "bf4c7e04-c537-4ac2-81bf-fdc861ef7c46",
   "metadata": {},
   "outputs": [],
   "source": [
    "minmax_scale_cols = ['beer_abv','review_palate','review_aroma','review_appearance','review_taste']"
   ]
  },
  {
   "cell_type": "code",
   "execution_count": 13,
   "id": "cee5af29-0b7a-47b4-a962-a9c059c76808",
   "metadata": {},
   "outputs": [
    {
     "data": {
      "text/html": [
       "<div>\n",
       "<style scoped>\n",
       "    .dataframe tbody tr th:only-of-type {\n",
       "        vertical-align: middle;\n",
       "    }\n",
       "\n",
       "    .dataframe tbody tr th {\n",
       "        vertical-align: top;\n",
       "    }\n",
       "\n",
       "    .dataframe thead th {\n",
       "        text-align: right;\n",
       "    }\n",
       "</style>\n",
       "<table border=\"1\" class=\"dataframe\">\n",
       "  <thead>\n",
       "    <tr style=\"text-align: right;\">\n",
       "      <th></th>\n",
       "      <th>brewery_id</th>\n",
       "      <th>beer_abv</th>\n",
       "      <th>review_palate</th>\n",
       "      <th>review_aroma</th>\n",
       "      <th>review_appearance</th>\n",
       "      <th>review_taste</th>\n",
       "    </tr>\n",
       "  </thead>\n",
       "  <tbody>\n",
       "    <tr>\n",
       "      <th>0</th>\n",
       "      <td>15438</td>\n",
       "      <td>0.086655</td>\n",
       "      <td>0.125</td>\n",
       "      <td>0.25</td>\n",
       "      <td>0.5</td>\n",
       "      <td>0.125</td>\n",
       "    </tr>\n",
       "  </tbody>\n",
       "</table>\n",
       "</div>"
      ],
      "text/plain": [
       "   brewery_id  beer_abv  review_palate  review_aroma  review_appearance  \\\n",
       "0       15438  0.086655          0.125          0.25                0.5   \n",
       "\n",
       "   review_taste  \n",
       "0         0.125  "
      ]
     },
     "execution_count": 13,
     "metadata": {},
     "output_type": "execute_result"
    }
   ],
   "source": [
    "df_test_15438_65 = pd.DataFrame([[15438,5.0,1.5,2.0,2.5,1.5]], columns = ['brewery_id','beer_abv','review_palate','review_aroma','review_appearance','review_taste'])\n",
    "df_test_15438_65 = MinMaxScaleFrame(df_test_15438_65, minmax_scale_cols, inplace=True)\n",
    "df_test_15438_65.head()"
   ]
  },
  {
   "cell_type": "code",
   "execution_count": 14,
   "id": "b54219ca-e03f-41ed-9210-c483c87f99e1",
   "metadata": {},
   "outputs": [
    {
     "data": {
      "text/plain": [
       "array([[1]])"
      ]
     },
     "execution_count": 14,
     "metadata": {},
     "output_type": "execute_result"
    }
   ],
   "source": [
    "cb_model.predict(df_test_15438_65,prediction_type='Class')"
   ]
  },
  {
   "cell_type": "markdown",
   "id": "1b83a988-9dbd-48de-869b-a5459753a12c",
   "metadata": {},
   "source": [
    "## 2. Build Calculate Beer Type/s"
   ]
  },
  {
   "cell_type": "markdown",
   "id": "94407b10-dbc5-4a75-844d-a06c496eb29d",
   "metadata": {},
   "source": [
    "**Catboost Model Properties**\n",
    "There are 6 numerical columns, no categorical columns and 1 label encoded target column\n",
    "\n",
    "* brewery_id - integer\n",
    "* beer_abv - float\n",
    "* review_aroma - float\n",
    "* review_appearance - float\n",
    "* review_palate - float\n",
    "* review_taste - float\n",
    "* beer_style_cat - label "
   ]
  },
  {
   "cell_type": "markdown",
   "id": "dc86fb2e-d7aa-4002-bd67-e20048e3765e",
   "metadata": {},
   "source": [
    "**[Task 2.1]** ‘/beer/type/’ (GET): Returning prediction for a single input only"
   ]
  },
  {
   "cell_type": "code",
   "execution_count": 15,
   "id": "265e7c3c-d09f-47d4-a7b2-2a129a03bcae",
   "metadata": {},
   "outputs": [],
   "source": [
    "df_test_5438_65 = pd.DataFrame([[15438,5.0,1.5,2.0,2.5,1.5]], columns = ['brewery_id','beer_abv','review_palate','review_aroma','review_appearance','review_taste'])"
   ]
  },
  {
   "cell_type": "code",
   "execution_count": 16,
   "id": "c3b744c9-ffa5-4e9d-a13d-4a9484bed821",
   "metadata": {},
   "outputs": [],
   "source": [
    "# Beer (65): Hefeweizen\n",
    "#brewery_name = None\n",
    "brewery_name = 'Gulf Brewery'\n",
    "brewery_id = 15438\n",
    "#brewery_id = 15597\n",
    "beer_abv = 5.0\n",
    "review_palate = 1.5\n",
    "review_aroma = 2.0\n",
    "review_appearance = 2.5\n",
    "review_taste = 1.5"
   ]
  },
  {
   "cell_type": "code",
   "execution_count": 37,
   "id": "fca13949-260c-4184-b864-70baf2cca4f9",
   "metadata": {},
   "outputs": [],
   "source": []
  },
  {
   "cell_type": "code",
   "execution_count": 262,
   "id": "93a2c5df-e3f5-46d4-9386-fe99fb1535c1",
   "metadata": {},
   "outputs": [],
   "source": [
    "# Caldera Brewing Company,1480,7.2,2.5,1.5,2.5,2.0,Oatmeal Stout : Beer Style: Oatmeal Stout (83)\n",
    "#brewery_name = None\n",
    "brewery_name = 'Caldera Brewing Company'\n",
    "brewery_id = 1480\n",
    "beer_abv = 7.2\n",
    "review_palate = 2.5\n",
    "review_aroma = 1.5\n",
    "review_appearance = 2.5\n",
    "review_taste = 2.0"
   ]
  },
  {
   "cell_type": "code",
   "execution_count": null,
   "id": "d354912f-6fb3-43ea-8059-cc4abb20d86a",
   "metadata": {},
   "outputs": [],
   "source": []
  },
  {
   "cell_type": "code",
   "execution_count": 18,
   "id": "cb84d4fc-1862-4333-9248-c48d105d89a2",
   "metadata": {},
   "outputs": [],
   "source": [
    "def format_features(brewery_name: str, brewery_id: int,beer_abv: float, review_palate: float, review_aroma: float, review_appearance: float, review_taste: float):\n",
    "    if brewery_name == None and  brewery_id != None: \n",
    "        query_string = 'brewery_id==' + str(brewery_id)\n",
    "        brewery_name = str(df_brewery.query(query_string)['brewery_name'].values[0])\n",
    "        \n",
    "    if brewery_name != None and  brewery_id == None: \n",
    "        query_string = 'brewery_name==\"' + brewery_name + '\"'\n",
    "        brewery_id = df_brewery.query(query_string)['brewery_id'].values[0]\n",
    "    \n",
    "    return {\n",
    "        'brewery_name': [brewery_name],\n",
    "        'brewery_id': [brewery_id],\n",
    "        'beer_abv': [beer_abv],\n",
    "        'review_palate': [review_palate],\n",
    "        'review_aroma': [review_aroma],\n",
    "        'review_appearance': [review_appearance],\n",
    "        'review_taste': [review_taste], \n",
    "    }"
   ]
  },
  {
   "cell_type": "code",
   "execution_count": 226,
   "id": "dcd9879a-2e96-436c-b706-31786925ba98",
   "metadata": {},
   "outputs": [],
   "source": [
    "def predict_beer(brewery_name: str, brewery_id: int,beer_abv: float, review_palate: float, review_aroma: float, review_appearance: float, review_taste: float):\n",
    "    # Config: Columns to Min Max Scale\n",
    "    minmax_scale_cols = ['beer_abv','review_palate','review_aroma','review_appearance','review_taste']\n",
    "    # Format input parameters as a JSON row\n",
    "    features = format_features(brewery_name, brewery_id, beer_abv, review_palate, review_aroma,review_appearance,review_taste  )\n",
    "    # Convert features to Pandas DataFrame\n",
    "    obs = pd.DataFrame(features)\n",
    "    # Drop brewery_name column\n",
    "    obs_predict = obs.drop(['brewery_name'], axis=1)\n",
    "    # Perform MinMax Scaling\n",
    "    obs_predict = MinMaxScaleFrame(obs_predict, minmax_scale_cols, inplace=True)\n",
    "    # Perform Prediction\n",
    "    pred = cb_model.predict(obs_predict)\n",
    "    \n",
    "    pred_beer_style_cat = pred[0].tolist()\n",
    "    pred_beer_style_cat = pred_beer_style_cat[0]\n",
    "    \n",
    "    df_pred_beer_style  = df_beer_style\n",
    "    df_pred_beer_style = df_pred_beer_style[df_pred_beer_style['beer_style_cat'] == pred_beer_style_cat]\n",
    "    \n",
    "    beer_style = df_pred_beer_style['beer_style'].item()\n",
    "    \n",
    "    obs['beer_style_cat_predicted'] = pred_beer_style_cat\n",
    "    obs['beer_style_predicted'] = beer_style\n",
    "    \n",
    "    obs_dict = obs.to_dict()\n",
    "    \n",
    "    # Return Prediction\n",
    "    #return JSONResponse(pred.tolist())\n",
    "    return obs_dict"
   ]
  },
  {
   "cell_type": "code",
   "execution_count": 227,
   "id": "adc5deb8-41f1-4ce2-80bb-2be63633dbb2",
   "metadata": {},
   "outputs": [],
   "source": [
    " prediction = predict_beer(brewery_name=brewery_name, brewery_id=brewery_id, beer_abv=beer_abv, review_palate=review_palate, review_aroma=review_aroma,review_appearance=review_appearance,review_taste=review_taste)"
   ]
  },
  {
   "cell_type": "code",
   "execution_count": 228,
   "id": "fd1f62af-0bcc-4081-9eca-a4035d729e71",
   "metadata": {},
   "outputs": [
    {
     "data": {
      "text/plain": [
       "{'brewery_name': {0: 'Caldera Brewing Company'},\n",
       " 'brewery_id': {0: 1480},\n",
       " 'beer_abv': {0: 7.2},\n",
       " 'review_palate': {0: 2.5},\n",
       " 'review_aroma': {0: 1.5},\n",
       " 'review_appearance': {0: 2.5},\n",
       " 'review_taste': {0: 2.0},\n",
       " 'beer_style_cat_predicted': {0: 12},\n",
       " 'beer_style_predicted': {0: 'American IPA'}}"
      ]
     },
     "execution_count": 228,
     "metadata": {},
     "output_type": "execute_result"
    }
   ],
   "source": [
    "prediction"
   ]
  },
  {
   "cell_type": "code",
   "execution_count": 22,
   "id": "220bcd9d-1e35-4efa-adae-83bbced2b020",
   "metadata": {},
   "outputs": [],
   "source": [
    "beer_style_cat = prediction.item(0)"
   ]
  },
  {
   "cell_type": "code",
   "execution_count": 23,
   "id": "f8f3fb87-0af5-4c1c-8c95-1c7d4d892647",
   "metadata": {},
   "outputs": [
    {
     "name": "stdout",
     "output_type": "stream",
     "text": [
      "12\n"
     ]
    }
   ],
   "source": [
    "print(beer_style_cat)"
   ]
  },
  {
   "cell_type": "code",
   "execution_count": 456,
   "id": "a1b7147d-7d19-44d8-8860-f4eb3d084f39",
   "metadata": {},
   "outputs": [],
   "source": [
    "df_test_5438_65 = pd.DataFrame([['1516 Brewing Company',5.0,1.5,2.0,2.5,1.5],['16 Mile Brewing Company',5.0,1.5,2.0,2.5,1.5]], columns = ['brewery_name','beer_abv','review_palate','review_aroma','review_appearance','review_taste'])\n"
   ]
  },
  {
   "cell_type": "code",
   "execution_count": 442,
   "id": "ad79dea9-d249-4c4c-ae39-cf94110c8f31",
   "metadata": {},
   "outputs": [],
   "source": [
    "df_test_5438_65['beer_style_cat_predicted'] = 16"
   ]
  },
  {
   "cell_type": "code",
   "execution_count": 457,
   "id": "21a88a8a-69e9-42f1-89b4-07028af9641c",
   "metadata": {},
   "outputs": [
    {
     "data": {
      "text/html": [
       "<div>\n",
       "<style scoped>\n",
       "    .dataframe tbody tr th:only-of-type {\n",
       "        vertical-align: middle;\n",
       "    }\n",
       "\n",
       "    .dataframe tbody tr th {\n",
       "        vertical-align: top;\n",
       "    }\n",
       "\n",
       "    .dataframe thead th {\n",
       "        text-align: right;\n",
       "    }\n",
       "</style>\n",
       "<table border=\"1\" class=\"dataframe\">\n",
       "  <thead>\n",
       "    <tr style=\"text-align: right;\">\n",
       "      <th></th>\n",
       "      <th>brewery_name</th>\n",
       "      <th>beer_abv</th>\n",
       "      <th>review_palate</th>\n",
       "      <th>review_aroma</th>\n",
       "      <th>review_appearance</th>\n",
       "      <th>review_taste</th>\n",
       "    </tr>\n",
       "  </thead>\n",
       "  <tbody>\n",
       "    <tr>\n",
       "      <th>0</th>\n",
       "      <td>1516 Brewing Company</td>\n",
       "      <td>5.0</td>\n",
       "      <td>1.5</td>\n",
       "      <td>2.0</td>\n",
       "      <td>2.5</td>\n",
       "      <td>1.5</td>\n",
       "    </tr>\n",
       "    <tr>\n",
       "      <th>1</th>\n",
       "      <td>16 Mile Brewing Company</td>\n",
       "      <td>5.0</td>\n",
       "      <td>1.5</td>\n",
       "      <td>2.0</td>\n",
       "      <td>2.5</td>\n",
       "      <td>1.5</td>\n",
       "    </tr>\n",
       "  </tbody>\n",
       "</table>\n",
       "</div>"
      ],
      "text/plain": [
       "              brewery_name  beer_abv  review_palate  review_aroma  \\\n",
       "0     1516 Brewing Company       5.0            1.5           2.0   \n",
       "1  16 Mile Brewing Company       5.0            1.5           2.0   \n",
       "\n",
       "   review_appearance  review_taste  \n",
       "0                2.5           1.5  \n",
       "1                2.5           1.5  "
      ]
     },
     "execution_count": 457,
     "metadata": {},
     "output_type": "execute_result"
    }
   ],
   "source": [
    "df_test_5438_65.head()"
   ]
  },
  {
   "cell_type": "code",
   "execution_count": null,
   "id": "1e992db2-9761-480f-a091-18ae9affff24",
   "metadata": {},
   "outputs": [],
   "source": [
    "df_test_5438_65.drop(['beer_style_predicted'],axis=1)"
   ]
  },
  {
   "cell_type": "code",
   "execution_count": 445,
   "id": "ae5d5ca9-5a4b-4520-816f-ed97fbf7be7e",
   "metadata": {},
   "outputs": [],
   "source": [
    "df_test_5438_65['beer_style_predicted'] = df_beer_style['beer_style'].loc[df_test_5438_65['beer_style_cat_predicted'].astype(int).values[0]]"
   ]
  },
  {
   "cell_type": "code",
   "execution_count": 446,
   "id": "ba85096f-a7e8-4f84-998b-a87995925afb",
   "metadata": {},
   "outputs": [
    {
     "data": {
      "text/html": [
       "<div>\n",
       "<style scoped>\n",
       "    .dataframe tbody tr th:only-of-type {\n",
       "        vertical-align: middle;\n",
       "    }\n",
       "\n",
       "    .dataframe tbody tr th {\n",
       "        vertical-align: top;\n",
       "    }\n",
       "\n",
       "    .dataframe thead th {\n",
       "        text-align: right;\n",
       "    }\n",
       "</style>\n",
       "<table border=\"1\" class=\"dataframe\">\n",
       "  <thead>\n",
       "    <tr style=\"text-align: right;\">\n",
       "      <th></th>\n",
       "      <th>brewery_name</th>\n",
       "      <th>beer_abv</th>\n",
       "      <th>review_palate</th>\n",
       "      <th>review_aroma</th>\n",
       "      <th>review_appearance</th>\n",
       "      <th>review_taste</th>\n",
       "      <th>beer_style_cat_predicted</th>\n",
       "      <th>beer_style_predicted</th>\n",
       "    </tr>\n",
       "  </thead>\n",
       "  <tbody>\n",
       "    <tr>\n",
       "      <th>0</th>\n",
       "      <td>1516 Brewing Company</td>\n",
       "      <td>5.0</td>\n",
       "      <td>1.5</td>\n",
       "      <td>2.0</td>\n",
       "      <td>2.5</td>\n",
       "      <td>1.5</td>\n",
       "      <td>16</td>\n",
       "      <td>American Pale Wheat Ale</td>\n",
       "    </tr>\n",
       "    <tr>\n",
       "      <th>1</th>\n",
       "      <td>16 Mile Brewing Company</td>\n",
       "      <td>5.0</td>\n",
       "      <td>1.5</td>\n",
       "      <td>2.0</td>\n",
       "      <td>2.5</td>\n",
       "      <td>1.5</td>\n",
       "      <td>16</td>\n",
       "      <td>American Pale Wheat Ale</td>\n",
       "    </tr>\n",
       "  </tbody>\n",
       "</table>\n",
       "</div>"
      ],
      "text/plain": [
       "              brewery_name  beer_abv  review_palate  review_aroma  \\\n",
       "0     1516 Brewing Company       5.0            1.5           2.0   \n",
       "1  16 Mile Brewing Company       5.0            1.5           2.0   \n",
       "\n",
       "   review_appearance  review_taste  beer_style_cat_predicted  \\\n",
       "0                2.5           1.5                        16   \n",
       "1                2.5           1.5                        16   \n",
       "\n",
       "      beer_style_predicted  \n",
       "0  American Pale Wheat Ale  \n",
       "1  American Pale Wheat Ale  "
      ]
     },
     "execution_count": 446,
     "metadata": {},
     "output_type": "execute_result"
    }
   ],
   "source": [
    "df_test_5438_65.head()"
   ]
  },
  {
   "cell_type": "code",
   "execution_count": 447,
   "id": "ea7aac99-6664-4de8-9e56-7b4562d6e4fe",
   "metadata": {},
   "outputs": [
    {
     "data": {
      "text/html": [
       "<div>\n",
       "<style scoped>\n",
       "    .dataframe tbody tr th:only-of-type {\n",
       "        vertical-align: middle;\n",
       "    }\n",
       "\n",
       "    .dataframe tbody tr th {\n",
       "        vertical-align: top;\n",
       "    }\n",
       "\n",
       "    .dataframe thead th {\n",
       "        text-align: right;\n",
       "    }\n",
       "</style>\n",
       "<table border=\"1\" class=\"dataframe\">\n",
       "  <thead>\n",
       "    <tr style=\"text-align: right;\">\n",
       "      <th></th>\n",
       "      <th>brewery_name</th>\n",
       "      <th>brewery_id</th>\n",
       "    </tr>\n",
       "  </thead>\n",
       "  <tbody>\n",
       "    <tr>\n",
       "      <th>0</th>\n",
       "      <td>'t Hofbrouwerijke</td>\n",
       "      <td>13160</td>\n",
       "    </tr>\n",
       "    <tr>\n",
       "      <th>1</th>\n",
       "      <td>(512) Brewing Company</td>\n",
       "      <td>17863</td>\n",
       "    </tr>\n",
       "    <tr>\n",
       "      <th>2</th>\n",
       "      <td>10 Barrel Brewing Co.</td>\n",
       "      <td>16873</td>\n",
       "    </tr>\n",
       "    <tr>\n",
       "      <th>3</th>\n",
       "      <td>1516 Brewing Company</td>\n",
       "      <td>4473</td>\n",
       "    </tr>\n",
       "    <tr>\n",
       "      <th>4</th>\n",
       "      <td>16 Mile Brewing Company</td>\n",
       "      <td>20688</td>\n",
       "    </tr>\n",
       "  </tbody>\n",
       "</table>\n",
       "</div>"
      ],
      "text/plain": [
       "              brewery_name  brewery_id\n",
       "0        't Hofbrouwerijke       13160\n",
       "1    (512) Brewing Company       17863\n",
       "2    10 Barrel Brewing Co.       16873\n",
       "3     1516 Brewing Company        4473\n",
       "4  16 Mile Brewing Company       20688"
      ]
     },
     "execution_count": 447,
     "metadata": {},
     "output_type": "execute_result"
    }
   ],
   "source": [
    "df_brewery.head()"
   ]
  },
  {
   "cell_type": "code",
   "execution_count": 473,
   "id": "0fc359e9-7c80-445e-b183-13314b086c67",
   "metadata": {},
   "outputs": [],
   "source": [
    "def find_brewery_id(df):\n",
    "    for i, row in df.iterrows():\n",
    "        brewery_name = row['brewery_name']\n",
    "        brewery_name_query = 'brewery_name==\"' + brewery_name + '\"'\n",
    "        brewery_id = df_brewery.query(brewery_name_query)['brewery_id'].astype(int).values[0]\n",
    "        brewery_id = int(brewery_id)\n",
    "        df.at[i,'brewery_id'] = brewery_id\n",
    "    # convert back to int\n",
    "    df = df.astype({'brewery_id':'int'})\n",
    "    return df"
   ]
  },
  {
   "cell_type": "code",
   "execution_count": 471,
   "id": "5ee8946b-082c-4515-b4c3-e2f98c8bd9ca",
   "metadata": {},
   "outputs": [],
   "source": [
    "df_test_5438_65 = find_brewery_id(df_test_5438_65)"
   ]
  },
  {
   "cell_type": "code",
   "execution_count": 475,
   "id": "65656259-0a5c-4523-bc48-040205510c3f",
   "metadata": {},
   "outputs": [
    {
     "data": {
      "text/html": [
       "<div>\n",
       "<style scoped>\n",
       "    .dataframe tbody tr th:only-of-type {\n",
       "        vertical-align: middle;\n",
       "    }\n",
       "\n",
       "    .dataframe tbody tr th {\n",
       "        vertical-align: top;\n",
       "    }\n",
       "\n",
       "    .dataframe thead th {\n",
       "        text-align: right;\n",
       "    }\n",
       "</style>\n",
       "<table border=\"1\" class=\"dataframe\">\n",
       "  <thead>\n",
       "    <tr style=\"text-align: right;\">\n",
       "      <th></th>\n",
       "      <th>brewery_name</th>\n",
       "      <th>beer_abv</th>\n",
       "      <th>review_palate</th>\n",
       "      <th>review_aroma</th>\n",
       "      <th>review_appearance</th>\n",
       "      <th>review_taste</th>\n",
       "      <th>brewery_id</th>\n",
       "    </tr>\n",
       "  </thead>\n",
       "  <tbody>\n",
       "    <tr>\n",
       "      <th>0</th>\n",
       "      <td>1516 Brewing Company</td>\n",
       "      <td>5.0</td>\n",
       "      <td>1.5</td>\n",
       "      <td>2.0</td>\n",
       "      <td>2.5</td>\n",
       "      <td>1.5</td>\n",
       "      <td>4473</td>\n",
       "    </tr>\n",
       "    <tr>\n",
       "      <th>1</th>\n",
       "      <td>16 Mile Brewing Company</td>\n",
       "      <td>5.0</td>\n",
       "      <td>1.5</td>\n",
       "      <td>2.0</td>\n",
       "      <td>2.5</td>\n",
       "      <td>1.5</td>\n",
       "      <td>20688</td>\n",
       "    </tr>\n",
       "  </tbody>\n",
       "</table>\n",
       "</div>"
      ],
      "text/plain": [
       "              brewery_name  beer_abv  review_palate  review_aroma  \\\n",
       "0     1516 Brewing Company       5.0            1.5           2.0   \n",
       "1  16 Mile Brewing Company       5.0            1.5           2.0   \n",
       "\n",
       "   review_appearance  review_taste  brewery_id  \n",
       "0                2.5           1.5        4473  \n",
       "1                2.5           1.5       20688  "
      ]
     },
     "execution_count": 475,
     "metadata": {},
     "output_type": "execute_result"
    }
   ],
   "source": [
    "df_test_5438_65.head()"
   ]
  },
  {
   "cell_type": "markdown",
   "id": "261bea56-0527-4b7f-9558-04c9a1bb857b",
   "metadata": {},
   "source": [
    "#### Check Dictionary Use for pydantic processing in FastAPI POST\n",
    "* Not successful in processing pydantic input"
   ]
  },
  {
   "cell_type": "code",
   "execution_count": 523,
   "id": "3bf817c7-41d7-4dfa-886c-15b0fc55cbe1",
   "metadata": {},
   "outputs": [],
   "source": [
    "dict_list = [{\n",
    "    \"beer_abv\": 1,\n",
    "    \"review_palate\": 1,\n",
    "    \"review_aroma\": 1,\n",
    "    \"review_appearance\": 1,\n",
    "    \"review_taste\": 1,\n",
    "    \"brewery_name\": \"16 Mile Brewing Company\",\n",
    "    \"brewery_id\": None\n",
    "  }\n",
    "    ,\n",
    "  {\n",
    "    \"beer_abv\": 2,\n",
    "    \"review_palate\": 2,\n",
    "    \"review_aroma\": 2,\n",
    "    \"review_appearance\": 2,\n",
    "    \"review_taste\": 2,\n",
    "    \"brewery_name\": \"1516 Brewing Company\",\n",
    "    \"brewery_id\": None\n",
    "  }]"
   ]
  },
  {
   "cell_type": "code",
   "execution_count": 524,
   "id": "5035e1eb-d70d-4d8c-9e38-c62000ecb179",
   "metadata": {},
   "outputs": [
    {
     "data": {
      "text/plain": [
       "[{'beer_abv': 1,\n",
       "  'review_palate': 1,\n",
       "  'review_aroma': 1,\n",
       "  'review_appearance': 1,\n",
       "  'review_taste': 1,\n",
       "  'brewery_name': '16 Mile Brewing Company',\n",
       "  'brewery_id': None},\n",
       " {'beer_abv': 2,\n",
       "  'review_palate': 2,\n",
       "  'review_aroma': 2,\n",
       "  'review_appearance': 2,\n",
       "  'review_taste': 2,\n",
       "  'brewery_name': '1516 Brewing Company',\n",
       "  'brewery_id': None}]"
      ]
     },
     "execution_count": 524,
     "metadata": {},
     "output_type": "execute_result"
    }
   ],
   "source": [
    "dict_list"
   ]
  },
  {
   "cell_type": "code",
   "execution_count": 507,
   "id": "0f59b5b8-e236-42c5-8ae1-051ae52bcee0",
   "metadata": {},
   "outputs": [],
   "source": [
    "def find_brewery_id(datalist):\n",
    "    for dic_item in datalist:\n",
    "        brewery_name = dic_item['brewery_name']\n",
    "        brewery_name_query = 'brewery_name==\"' + brewery_name + '\"'\n",
    "        print(brewery_name_query)\n",
    "        dic_item['brewery_id'] = df_brewery.query(brewery_name_query)['brewery_id'].astype(int).values[0]\n",
    "    return datalist"
   ]
  },
  {
   "cell_type": "code",
   "execution_count": 525,
   "id": "2672f71c-ff28-4f52-967d-6c662735eb68",
   "metadata": {},
   "outputs": [
    {
     "name": "stdout",
     "output_type": "stream",
     "text": [
      "brewery_name==\"16 Mile Brewing Company\"\n",
      "brewery_name==\"1516 Brewing Company\"\n"
     ]
    }
   ],
   "source": [
    "datalist = find_brewery_id(dict_list)"
   ]
  },
  {
   "cell_type": "code",
   "execution_count": 527,
   "id": "1bff2157-fa80-4dd4-84f9-8fb5771e0470",
   "metadata": {},
   "outputs": [
    {
     "data": {
      "text/plain": [
       "[{'beer_abv': 1,\n",
       "  'review_palate': 1,\n",
       "  'review_aroma': 1,\n",
       "  'review_appearance': 1,\n",
       "  'review_taste': 1,\n",
       "  'brewery_name': '16 Mile Brewing Company',\n",
       "  'brewery_id': 20688},\n",
       " {'beer_abv': 2,\n",
       "  'review_palate': 2,\n",
       "  'review_aroma': 2,\n",
       "  'review_appearance': 2,\n",
       "  'review_taste': 2,\n",
       "  'brewery_name': '1516 Brewing Company',\n",
       "  'brewery_id': 4473}]"
      ]
     },
     "execution_count": 527,
     "metadata": {},
     "output_type": "execute_result"
    }
   ],
   "source": [
    "dict_list"
   ]
  },
  {
   "cell_type": "code",
   "execution_count": 529,
   "id": "512f2bb2-99c9-4cf7-bb2d-add65bc792f9",
   "metadata": {},
   "outputs": [],
   "source": [
    "## Pydantic Modellingclass beer_style(BaseModel):"
   ]
  },
  {
   "cell_type": "code",
   "execution_count": 531,
   "id": "5920078a-78f2-4c3b-b896-b1bcda847175",
   "metadata": {},
   "outputs": [],
   "source": [
    "class beer_style(BaseModel):\n",
    "    beer_abv: float\n",
    "    review_palate: float\n",
    "    review_aroma: float\n",
    "    review_appearance: float\n",
    "    review_taste: float\n",
    "    brewery_name: str\n",
    "    brewery_id: Optional[int]=None"
   ]
  },
  {
   "cell_type": "code",
   "execution_count": 559,
   "id": "1200149c-3b27-4bdf-b1e1-a264829885e4",
   "metadata": {},
   "outputs": [],
   "source": [
    "beer = \"100.0,1.5,3.0,2.5,1.5,1516 Brewing Company\""
   ]
  },
  {
   "cell_type": "code",
   "execution_count": 548,
   "id": "ce2625c4-db11-4c93-9fe4-1a5cb6de04ab",
   "metadata": {},
   "outputs": [],
   "source": [
    "beerRow = beer.split(',')"
   ]
  },
  {
   "cell_type": "code",
   "execution_count": 551,
   "id": "60308024-5999-491e-82c3-7249f5b5e1f8",
   "metadata": {},
   "outputs": [],
   "source": [
    "# beer_abv, review_palate, review_aroma, review_appearance, review_tastebrewery_name, brewery_id [Optional]\n",
    "beer_abv = float(beerRow[0])\n",
    "review_palate = float(beerRow[1])\n",
    "review_aroma = float(beerRow[2])\n",
    "review_appearance = float(beerRow[3])\n",
    "review_taste = float(beerRow[4])\n",
    "brewery_name = str(beerRow[5])"
   ]
  },
  {
   "cell_type": "code",
   "execution_count": 553,
   "id": "32a2d344-88a6-4bcf-b2c8-532a42e53317",
   "metadata": {},
   "outputs": [
    {
     "data": {
      "text/plain": [
       "1.5"
      ]
     },
     "execution_count": 553,
     "metadata": {},
     "output_type": "execute_result"
    }
   ],
   "source": [
    "review_taste"
   ]
  },
  {
   "cell_type": "code",
   "execution_count": 555,
   "id": "c38992de-2c60-4eb0-8797-1cd45daceaae",
   "metadata": {},
   "outputs": [],
   "source": [
    "def convert_beer_input(beerRow):\n",
    "    beerRow = beer.split(',')\n",
    "    beer_abv = float(beerRow[0])\n",
    "    review_palate = float(beerRow[1])\n",
    "    review_aroma = float(beerRow[2])\n",
    "    review_appearance = float(beerRow[3])\n",
    "    review_taste = float(beerRow[4])\n",
    "    brewery_name = str(beerRow[5])\n",
    "    return beer_abv, review_palate, review_aroma, review_appearance, review_taste, brewery_name\n",
    "    "
   ]
  },
  {
   "cell_type": "code",
   "execution_count": 560,
   "id": "251ad924-6c2e-41b3-bad6-5eaa9d3fdafb",
   "metadata": {},
   "outputs": [],
   "source": [
    "beer_abv, review_palate, review_aroma, review_appearance, review_taste, brewery_name = convert_beer_input(beer)"
   ]
  },
  {
   "cell_type": "code",
   "execution_count": 561,
   "id": "ae05d123-2457-4eb4-b0d3-14731d1b7087",
   "metadata": {},
   "outputs": [
    {
     "data": {
      "text/plain": [
       "100.0"
      ]
     },
     "execution_count": 561,
     "metadata": {},
     "output_type": "execute_result"
    }
   ],
   "source": [
    "beer_abv"
   ]
  }
 ],
 "metadata": {
  "kernelspec": {
   "display_name": "Python 3 (ipykernel)",
   "language": "python",
   "name": "python3"
  },
  "language_info": {
   "codemirror_mode": {
    "name": "ipython",
    "version": 3
   },
   "file_extension": ".py",
   "mimetype": "text/x-python",
   "name": "python",
   "nbconvert_exporter": "python",
   "pygments_lexer": "ipython3",
   "version": "3.9.10"
  }
 },
 "nbformat": 4,
 "nbformat_minor": 5
}
